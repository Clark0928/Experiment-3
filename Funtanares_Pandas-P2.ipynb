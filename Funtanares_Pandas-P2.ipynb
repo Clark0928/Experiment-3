{
 "cells": [
  {
   "cell_type": "markdown",
   "id": "52e98240-3284-4cf4-9bcd-1b86ce82dcb7",
   "metadata": {},
   "source": [
    "# PROBLEM 2"
   ]
  },
  {
   "cell_type": "markdown",
   "id": "d03bbb04-2352-4ecd-87f2-fd06cfb3a680",
   "metadata": {},
   "source": [
    "### INSTRUCTIONS\n",
    "#### Using the dataframe cars in problem 1, extract the following information using subsetting, slicing and indexing operations.\n",
    "###### a. Display the first five rows with odd-numbered columns (columns 1, 3, 5, 7...) of cars.\n",
    "###### b. Display the row that contains the ‘Model’ of ‘Mazda RX4’.\n",
    "###### c. How many cylinders (‘cyl’) does the car model ‘Camaro Z28’ have?\n",
    "###### d. Determine how many cylinders (‘cyl’) and what gear type (‘gear’) do the car models ‘Mazda RX4 Wag’, ‘Ford Pantera L’ and ‘Honda Civic’ have.\n",
    "\n"
   ]
  },
  {
   "cell_type": "markdown",
   "id": "3313b531-38b8-4fc7-82d8-c840281f32be",
   "metadata": {},
   "source": [
    "#### Use Import Convention \"import pandas as pd\" to access Pandas Library"
   ]
  },
  {
   "cell_type": "code",
   "execution_count": 3,
   "id": "85da023f-1f9f-401d-88f3-d73acec77390",
   "metadata": {},
   "outputs": [],
   "source": [
    "import pandas as pd"
   ]
  },
  {
   "cell_type": "markdown",
   "id": "b720a451-b4d8-485f-9628-7b8c0dd82607",
   "metadata": {},
   "source": [
    "#### Use the function .read_csv() to load data from a csv file then store the data in a data frame named cars"
   ]
  },
  {
   "cell_type": "code",
   "execution_count": 34,
   "id": "9e1e0f1a-21c1-4de4-b32e-1917c71b30fb",
   "metadata": {},
   "outputs": [],
   "source": [
    "cars =  pd.read_csv('cars.csv')"
   ]
  },
  {
   "cell_type": "markdown",
   "id": "732e2515-d782-4022-b486-9054f6fa59f3",
   "metadata": {},
   "source": [
    "#### .iloc[[n],[m]] returns the n index row and m index column. You can also input a range of indices.\n",
    "###### 0:5 , where 0 is the start index and 5 is the end index, this will return rows 0 to 4 since the end index is excluded\n",
    "###### 1::2, where 1 is the start index and ::2 skips 1 index and returns the next, this will return columns 1,3,5,7,9, and 11"
   ]
  },
  {
   "cell_type": "code",
   "execution_count": 31,
   "id": "ef8178d4-9ec9-43c6-8ecb-70a4dcab2235",
   "metadata": {},
   "outputs": [
    {
     "data": {
      "text/html": [
       "<div>\n",
       "<style scoped>\n",
       "    .dataframe tbody tr th:only-of-type {\n",
       "        vertical-align: middle;\n",
       "    }\n",
       "\n",
       "    .dataframe tbody tr th {\n",
       "        vertical-align: top;\n",
       "    }\n",
       "\n",
       "    .dataframe thead th {\n",
       "        text-align: right;\n",
       "    }\n",
       "</style>\n",
       "<table border=\"1\" class=\"dataframe\">\n",
       "  <thead>\n",
       "    <tr style=\"text-align: right;\">\n",
       "      <th></th>\n",
       "      <th>mpg</th>\n",
       "      <th>disp</th>\n",
       "      <th>drat</th>\n",
       "      <th>qsec</th>\n",
       "      <th>am</th>\n",
       "      <th>carb</th>\n",
       "    </tr>\n",
       "  </thead>\n",
       "  <tbody>\n",
       "    <tr>\n",
       "      <th>0</th>\n",
       "      <td>21.0</td>\n",
       "      <td>160.0</td>\n",
       "      <td>3.90</td>\n",
       "      <td>16.46</td>\n",
       "      <td>1</td>\n",
       "      <td>4</td>\n",
       "    </tr>\n",
       "    <tr>\n",
       "      <th>1</th>\n",
       "      <td>21.0</td>\n",
       "      <td>160.0</td>\n",
       "      <td>3.90</td>\n",
       "      <td>17.02</td>\n",
       "      <td>1</td>\n",
       "      <td>4</td>\n",
       "    </tr>\n",
       "    <tr>\n",
       "      <th>2</th>\n",
       "      <td>22.8</td>\n",
       "      <td>108.0</td>\n",
       "      <td>3.85</td>\n",
       "      <td>18.61</td>\n",
       "      <td>1</td>\n",
       "      <td>1</td>\n",
       "    </tr>\n",
       "    <tr>\n",
       "      <th>3</th>\n",
       "      <td>21.4</td>\n",
       "      <td>258.0</td>\n",
       "      <td>3.08</td>\n",
       "      <td>19.44</td>\n",
       "      <td>0</td>\n",
       "      <td>1</td>\n",
       "    </tr>\n",
       "    <tr>\n",
       "      <th>4</th>\n",
       "      <td>18.7</td>\n",
       "      <td>360.0</td>\n",
       "      <td>3.15</td>\n",
       "      <td>17.02</td>\n",
       "      <td>0</td>\n",
       "      <td>2</td>\n",
       "    </tr>\n",
       "  </tbody>\n",
       "</table>\n",
       "</div>"
      ],
      "text/plain": [
       "    mpg   disp  drat   qsec  am  carb\n",
       "0  21.0  160.0  3.90  16.46   1     4\n",
       "1  21.0  160.0  3.90  17.02   1     4\n",
       "2  22.8  108.0  3.85  18.61   1     1\n",
       "3  21.4  258.0  3.08  19.44   0     1\n",
       "4  18.7  360.0  3.15  17.02   0     2"
      ]
     },
     "execution_count": 31,
     "metadata": {},
     "output_type": "execute_result"
    }
   ],
   "source": [
    "cars.iloc[0:5,1::2]"
   ]
  },
  {
   "cell_type": "markdown",
   "id": "bdff0356-03af-40e2-ad3e-a449501e4c1f",
   "metadata": {},
   "source": [
    "#### Locates Mazda RX4 under 'Model' and returns its corresponding row"
   ]
  },
  {
   "cell_type": "code",
   "execution_count": 16,
   "id": "35560eac-9067-42d8-9a02-0189327ce28a",
   "metadata": {},
   "outputs": [
    {
     "data": {
      "text/html": [
       "<div>\n",
       "<style scoped>\n",
       "    .dataframe tbody tr th:only-of-type {\n",
       "        vertical-align: middle;\n",
       "    }\n",
       "\n",
       "    .dataframe tbody tr th {\n",
       "        vertical-align: top;\n",
       "    }\n",
       "\n",
       "    .dataframe thead th {\n",
       "        text-align: right;\n",
       "    }\n",
       "</style>\n",
       "<table border=\"1\" class=\"dataframe\">\n",
       "  <thead>\n",
       "    <tr style=\"text-align: right;\">\n",
       "      <th></th>\n",
       "      <th>Model</th>\n",
       "      <th>mpg</th>\n",
       "      <th>cyl</th>\n",
       "      <th>disp</th>\n",
       "      <th>hp</th>\n",
       "      <th>drat</th>\n",
       "      <th>wt</th>\n",
       "      <th>qsec</th>\n",
       "      <th>vs</th>\n",
       "      <th>am</th>\n",
       "      <th>gear</th>\n",
       "      <th>carb</th>\n",
       "    </tr>\n",
       "  </thead>\n",
       "  <tbody>\n",
       "    <tr>\n",
       "      <th>0</th>\n",
       "      <td>Mazda RX4</td>\n",
       "      <td>21.0</td>\n",
       "      <td>6</td>\n",
       "      <td>160.0</td>\n",
       "      <td>110</td>\n",
       "      <td>3.9</td>\n",
       "      <td>2.62</td>\n",
       "      <td>16.46</td>\n",
       "      <td>0</td>\n",
       "      <td>1</td>\n",
       "      <td>4</td>\n",
       "      <td>4</td>\n",
       "    </tr>\n",
       "  </tbody>\n",
       "</table>\n",
       "</div>"
      ],
      "text/plain": [
       "       Model   mpg  cyl   disp   hp  drat    wt   qsec  vs  am  gear  carb\n",
       "0  Mazda RX4  21.0    6  160.0  110   3.9  2.62  16.46   0   1     4     4"
      ]
     },
     "execution_count": 16,
     "metadata": {},
     "output_type": "execute_result"
    }
   ],
   "source": [
    "cars.loc[cars['Model'] == 'Mazda RX4']"
   ]
  },
  {
   "cell_type": "markdown",
   "id": "d438ff8a-108c-4ad9-82e2-3647b3fddb41",
   "metadata": {},
   "source": [
    "#### Locates Camaro Z28 under 'Model' and returns data under the columns 'Model' and 'cyl'"
   ]
  },
  {
   "cell_type": "code",
   "execution_count": 25,
   "id": "a8802231-f1b1-4a8f-9b2d-742ebebeab30",
   "metadata": {},
   "outputs": [
    {
     "data": {
      "text/html": [
       "<div>\n",
       "<style scoped>\n",
       "    .dataframe tbody tr th:only-of-type {\n",
       "        vertical-align: middle;\n",
       "    }\n",
       "\n",
       "    .dataframe tbody tr th {\n",
       "        vertical-align: top;\n",
       "    }\n",
       "\n",
       "    .dataframe thead th {\n",
       "        text-align: right;\n",
       "    }\n",
       "</style>\n",
       "<table border=\"1\" class=\"dataframe\">\n",
       "  <thead>\n",
       "    <tr style=\"text-align: right;\">\n",
       "      <th></th>\n",
       "      <th>Model</th>\n",
       "      <th>cyl</th>\n",
       "    </tr>\n",
       "  </thead>\n",
       "  <tbody>\n",
       "    <tr>\n",
       "      <th>23</th>\n",
       "      <td>Camaro Z28</td>\n",
       "      <td>8</td>\n",
       "    </tr>\n",
       "  </tbody>\n",
       "</table>\n",
       "</div>"
      ],
      "text/plain": [
       "         Model  cyl\n",
       "23  Camaro Z28    8"
      ]
     },
     "execution_count": 25,
     "metadata": {},
     "output_type": "execute_result"
    }
   ],
   "source": [
    "cars.loc[(cars['Model'] == 'Camaro Z28'), ['Model','cyl']]"
   ]
  },
  {
   "cell_type": "markdown",
   "id": "088615e1-2f27-4528-97c7-cff26b60dc77",
   "metadata": {},
   "source": [
    "#### Locates Mazda RX4 Wag, Ford Pantera L, and Honda Civic under 'Model' and returns data under the columns 'Model', 'cyl, and 'gear'"
   ]
  },
  {
   "cell_type": "code",
   "execution_count": 35,
   "id": "0c85a574-a0ae-4d22-bde2-2500789a4e53",
   "metadata": {},
   "outputs": [
    {
     "data": {
      "text/html": [
       "<div>\n",
       "<style scoped>\n",
       "    .dataframe tbody tr th:only-of-type {\n",
       "        vertical-align: middle;\n",
       "    }\n",
       "\n",
       "    .dataframe tbody tr th {\n",
       "        vertical-align: top;\n",
       "    }\n",
       "\n",
       "    .dataframe thead th {\n",
       "        text-align: right;\n",
       "    }\n",
       "</style>\n",
       "<table border=\"1\" class=\"dataframe\">\n",
       "  <thead>\n",
       "    <tr style=\"text-align: right;\">\n",
       "      <th></th>\n",
       "      <th>Model</th>\n",
       "      <th>cyl</th>\n",
       "      <th>gear</th>\n",
       "    </tr>\n",
       "  </thead>\n",
       "  <tbody>\n",
       "    <tr>\n",
       "      <th>1</th>\n",
       "      <td>Mazda RX4 Wag</td>\n",
       "      <td>6</td>\n",
       "      <td>4</td>\n",
       "    </tr>\n",
       "    <tr>\n",
       "      <th>18</th>\n",
       "      <td>Honda Civic</td>\n",
       "      <td>4</td>\n",
       "      <td>4</td>\n",
       "    </tr>\n",
       "    <tr>\n",
       "      <th>28</th>\n",
       "      <td>Ford Pantera L</td>\n",
       "      <td>8</td>\n",
       "      <td>5</td>\n",
       "    </tr>\n",
       "  </tbody>\n",
       "</table>\n",
       "</div>"
      ],
      "text/plain": [
       "             Model  cyl  gear\n",
       "1    Mazda RX4 Wag    6     4\n",
       "18     Honda Civic    4     4\n",
       "28  Ford Pantera L    8     5"
      ]
     },
     "execution_count": 35,
     "metadata": {},
     "output_type": "execute_result"
    }
   ],
   "source": [
    "cars.loc[(cars['Model'] == 'Mazda RX4 Wag') |\n",
    "         (cars['Model'] == 'Ford Pantera L') |\n",
    "         (cars['Model'] == 'Honda Civic'), ['Model','cyl','gear']]"
   ]
  }
 ],
 "metadata": {
  "kernelspec": {
   "display_name": "Python 3 (ipykernel)",
   "language": "python",
   "name": "python3"
  },
  "language_info": {
   "codemirror_mode": {
    "name": "ipython",
    "version": 3
   },
   "file_extension": ".py",
   "mimetype": "text/x-python",
   "name": "python",
   "nbconvert_exporter": "python",
   "pygments_lexer": "ipython3",
   "version": "3.12.4"
  }
 },
 "nbformat": 4,
 "nbformat_minor": 5
}
